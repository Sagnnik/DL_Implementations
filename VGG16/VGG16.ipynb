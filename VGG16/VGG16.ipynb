{
  "nbformat": 4,
  "nbformat_minor": 0,
  "metadata": {
    "colab": {
      "name": "VGG16.ipynb",
      "provenance": []
    },
    "kernelspec": {
      "name": "python3",
      "display_name": "Python 3"
    },
    "language_info": {
      "name": "python"
    },
    "accelerator": "GPU"
  },
  "cells": [
    {
      "cell_type": "code",
      "execution_count": null,
      "metadata": {
        "id": "h5IlFXyKTdsH"
      },
      "outputs": [],
      "source": [
        "import tensorflow as tf\n",
        "import numpy as np\n",
        "import matplotlib.pyplot as plt\n",
        "from keras.layers import Conv2D, Flatten, MaxPooling2D, BatchNormalization, Dense, Input, Dropout, GlobalAveragePooling2D\n",
        "from keras.models import Model\n",
        "from keras.preprocessing.image import ImageDataGenerator\n",
        "import os\n",
        "import zipfile"
      ]
    },
    {
      "cell_type": "code",
      "source": [
        "!wget --no-check-certificate \\\n",
        "    https://storage.googleapis.com/mledu-datasets/cats_and_dogs_filtered.zip \\\n",
        "    -O /content/cats_and_dogs_filtered.zip"
      ],
      "metadata": {
        "colab": {
          "base_uri": "https://localhost:8080/"
        },
        "id": "n5KjaBHOuWju",
        "outputId": "d173163f-18a2-40fc-cedf-4f13b8be0019"
      },
      "execution_count": null,
      "outputs": [
        {
          "output_type": "stream",
          "name": "stdout",
          "text": [
            "--2022-04-19 13:03:07--  https://storage.googleapis.com/mledu-datasets/cats_and_dogs_filtered.zip\n",
            "Resolving storage.googleapis.com (storage.googleapis.com)... 173.194.74.128, 209.85.145.128, 209.85.147.128, ...\n",
            "Connecting to storage.googleapis.com (storage.googleapis.com)|173.194.74.128|:443... connected.\n",
            "HTTP request sent, awaiting response... 200 OK\n",
            "Length: 68606236 (65M) [application/zip]\n",
            "Saving to: ‘/content/cats_and_dogs_filtered.zip’\n",
            "\n",
            "/content/cats_and_d 100%[===================>]  65.43M   215MB/s    in 0.3s    \n",
            "\n",
            "2022-04-19 13:03:07 (215 MB/s) - ‘/content/cats_and_dogs_filtered.zip’ saved [68606236/68606236]\n",
            "\n"
          ]
        }
      ]
    },
    {
      "cell_type": "code",
      "source": [
        "local_zip = '/content/cats_and_dogs_filtered.zip'\n",
        "zip_ref = zipfile.ZipFile(local_zip, 'r')\n",
        "zip_ref.extractall('/content')\n",
        "zip_ref.close()"
      ],
      "metadata": {
        "id": "ptPaDZZ7ulwB"
      },
      "execution_count": null,
      "outputs": []
    },
    {
      "cell_type": "code",
      "source": [
        "base_dir = '/content/cats_and_dogs_filtered'\n",
        "train_dir = os.path.join(base_dir, 'train')\n",
        "validation_dir = os.path.join(base_dir, 'validation')\n",
        "\n",
        "# Directory with our training cat pictures\n",
        "train_cats_dir = os.path.join(train_dir, 'cats')\n",
        "\n",
        "# Directory with our training dog pictures\n",
        "train_dogs_dir = os.path.join(train_dir, 'dogs')\n",
        "\n",
        "# Directory with our validation cat pictures\n",
        "validation_cats_dir = os.path.join(validation_dir, 'cats')\n",
        "\n",
        "# Directory with our validation dog pictures\n",
        "validation_dogs_dir = os.path.join(validation_dir, 'dogs')"
      ],
      "metadata": {
        "id": "Qlq2aphmurjn"
      },
      "execution_count": null,
      "outputs": []
    },
    {
      "cell_type": "code",
      "source": [
        "train_cat_fnames = os.listdir(train_cats_dir)\n",
        "print(train_cat_fnames[:10])\n",
        "\n",
        "train_dog_fnames = os.listdir(train_dogs_dir)\n",
        "train_dog_fnames.sort()\n",
        "print(train_dog_fnames[:10])"
      ],
      "metadata": {
        "colab": {
          "base_uri": "https://localhost:8080/"
        },
        "id": "VtWBnD-Ku4wO",
        "outputId": "bc92f9a4-5bd3-456c-f872-b37bb51ce057"
      },
      "execution_count": null,
      "outputs": [
        {
          "output_type": "stream",
          "name": "stdout",
          "text": [
            "['cat.456.jpg', 'cat.710.jpg', 'cat.948.jpg', 'cat.325.jpg', 'cat.884.jpg', 'cat.569.jpg', 'cat.270.jpg', 'cat.536.jpg', 'cat.105.jpg', 'cat.249.jpg']\n",
            "['dog.0.jpg', 'dog.1.jpg', 'dog.10.jpg', 'dog.100.jpg', 'dog.101.jpg', 'dog.102.jpg', 'dog.103.jpg', 'dog.104.jpg', 'dog.105.jpg', 'dog.106.jpg']\n"
          ]
        }
      ]
    },
    {
      "cell_type": "code",
      "source": [
        "print('total training cat images:', len(os.listdir(train_cats_dir)))\n",
        "print('total training dog images:', len(os.listdir(train_dogs_dir)))\n",
        "print('total validation cat images:', len(os.listdir(validation_cats_dir)))\n",
        "print('total validation dog images:', len(os.listdir(validation_dogs_dir)))"
      ],
      "metadata": {
        "colab": {
          "base_uri": "https://localhost:8080/"
        },
        "id": "RF8WhSlbu6nR",
        "outputId": "d8bfe0c0-05a6-4f8a-cf47-176d31d1c098"
      },
      "execution_count": null,
      "outputs": [
        {
          "output_type": "stream",
          "name": "stdout",
          "text": [
            "total training cat images: 1000\n",
            "total training dog images: 1000\n",
            "total validation cat images: 500\n",
            "total validation dog images: 500\n"
          ]
        }
      ]
    },
    {
      "cell_type": "code",
      "source": [
        "train_datagen = ImageDataGenerator(rotation_range=20,\n",
        "                                   width_shift_range=0.2,\n",
        "                                   height_shift_range=0.2,\n",
        "                                   shear_range=0.2,\n",
        "                                   zoom_range=0.2,\n",
        "                                   horizontal_flip=True,\n",
        "                                   rescale=1./255,\n",
        "                                   fill_mode='nearest')\n",
        "test_datagen = ImageDataGenerator(rescale=1./255,\n",
        "                                  rotation_range=20,\n",
        "                                  width_shift_range=0.2,\n",
        "                                  height_shift_range=0.2,\n",
        "                                  shear_range=0.2,\n",
        "                                  zoom_range=0.2,\n",
        "                                  horizontal_flip=True,\n",
        "                                  fill_mode='nearest')\n",
        "\n",
        "train_generator = train_datagen.flow_from_directory(train_dir,\n",
        "                                                    target_size=(224,224),\n",
        "                                                    batch_size=20,\n",
        "                                                    class_mode='binary')\n",
        "test_generator = test_datagen.flow_from_directory(validation_dir,\n",
        "                                                  target_size=(224,224),\n",
        "                                                  batch_size=20,\n",
        "                                                  class_mode='binary')"
      ],
      "metadata": {
        "colab": {
          "base_uri": "https://localhost:8080/"
        },
        "id": "Bw7L7yW_vJUq",
        "outputId": "8dc5dc16-123a-4385-f56a-ad4e3e3e8b90"
      },
      "execution_count": null,
      "outputs": [
        {
          "output_type": "stream",
          "name": "stdout",
          "text": [
            "Found 2000 images belonging to 2 classes.\n",
            "Found 1000 images belonging to 2 classes.\n"
          ]
        }
      ]
    },
    {
      "cell_type": "code",
      "source": [
        "#VGG16 Model\n",
        "def VGG16_Model(shape, classes):\n",
        "  #Block 1\n",
        "  input_shape = Input(shape=shape)\n",
        "  x = Conv2D(64, kernel_size=(3,3), padding='same', activation='relu')(input_shape)\n",
        "  x = Conv2D(64, kernel_size=(3,3), padding='same', activation='relu')(x)\n",
        "  x = MaxPooling2D(2, strides=2, padding='same')(x)\n",
        "  x = BatchNormalization()(x)\n",
        "\n",
        "  #Block 2\n",
        "  x = Conv2D(128, kernel_size=(3,3), padding='same', activation='relu')(x)\n",
        "  x = Conv2D(128, kernel_size=(3,3), padding='same', activation='relu')(x)\n",
        "  x = MaxPooling2D(2, strides=2, padding='same')(x)\n",
        "  x = BatchNormalization()(x)\n",
        "\n",
        "  #Block 3\n",
        "  x = Conv2D(256, kernel_size=(3,3), padding='same', activation='relu')(x)\n",
        "  x = Conv2D(256, kernel_size=(3,3), padding='same', activation='relu')(x)\n",
        "  x = Conv2D(256, kernel_size=(3,3), padding='same', activation='relu')(x)\n",
        "  x = MaxPooling2D(2, strides=2, padding='same')(x)\n",
        "  x = BatchNormalization()(x)\n",
        "\n",
        "  #Block 4\n",
        "  x = Conv2D(512, kernel_size=(3,3), padding='same', activation='relu')(x)\n",
        "  x = Conv2D(512, kernel_size=(3,3), padding='same', activation='relu')(x)\n",
        "  x = Conv2D(512, kernel_size=(3,3), padding='same', activation='relu')(x)\n",
        "  x = MaxPooling2D(2, strides=2, padding='same')(x)\n",
        "  x = BatchNormalization()(x)\n",
        "\n",
        "  #Block 5\n",
        "  x = Conv2D(512, kernel_size=(3,3), padding='same', activation='relu')(x)\n",
        "  x = Conv2D(512, kernel_size=(3,3), padding='same', activation='relu')(x)\n",
        "  x = Conv2D(512, kernel_size=(3,3), padding='same', activation='relu')(x)\n",
        "  x = MaxPooling2D(2, strides=2, padding='same')(x)\n",
        "  x = BatchNormalization()(x)\n",
        "  x = GlobalAveragePooling2D()(x)\n",
        "\n",
        "  x = Flatten()(x)\n",
        "  x = Dense(512, activation='relu')(x)\n",
        "  x = Dense(1024, activation='relu')(x)\n",
        "  x = Dropout(0.5)(x)\n",
        "  if classes==2:\n",
        "    activation_fn='sigmoid'\n",
        "  else:\n",
        "    activation_fn='softmax'\n",
        "  output = Dense(1, activation=activation_fn)(x)\n",
        "\n",
        "  model = Model(inputs=input_shape, outputs=output)\n",
        "\n",
        "  return model "
      ],
      "metadata": {
        "id": "0cb4X3bTUFKp"
      },
      "execution_count": null,
      "outputs": []
    },
    {
      "cell_type": "code",
      "source": [
        "model = VGG16_Model(shape=(224,224,3), classes=2)\n",
        "print(model.summary())"
      ],
      "metadata": {
        "colab": {
          "base_uri": "https://localhost:8080/"
        },
        "id": "W3KHiBHbgd0w",
        "outputId": "4d12b8f6-624a-471b-e60e-e06f97a6009c"
      },
      "execution_count": null,
      "outputs": [
        {
          "output_type": "stream",
          "name": "stdout",
          "text": [
            "Model: \"model\"\n",
            "_________________________________________________________________\n",
            " Layer (type)                Output Shape              Param #   \n",
            "=================================================================\n",
            " input_1 (InputLayer)        [(None, 224, 224, 3)]     0         \n",
            "                                                                 \n",
            " conv2d (Conv2D)             (None, 224, 224, 64)      1792      \n",
            "                                                                 \n",
            " conv2d_1 (Conv2D)           (None, 224, 224, 64)      36928     \n",
            "                                                                 \n",
            " max_pooling2d (MaxPooling2D  (None, 112, 112, 64)     0         \n",
            " )                                                               \n",
            "                                                                 \n",
            " batch_normalization (BatchN  (None, 112, 112, 64)     256       \n",
            " ormalization)                                                   \n",
            "                                                                 \n",
            " conv2d_2 (Conv2D)           (None, 112, 112, 128)     73856     \n",
            "                                                                 \n",
            " conv2d_3 (Conv2D)           (None, 112, 112, 128)     147584    \n",
            "                                                                 \n",
            " max_pooling2d_1 (MaxPooling  (None, 56, 56, 128)      0         \n",
            " 2D)                                                             \n",
            "                                                                 \n",
            " batch_normalization_1 (Batc  (None, 56, 56, 128)      512       \n",
            " hNormalization)                                                 \n",
            "                                                                 \n",
            " conv2d_4 (Conv2D)           (None, 56, 56, 256)       295168    \n",
            "                                                                 \n",
            " conv2d_5 (Conv2D)           (None, 56, 56, 256)       590080    \n",
            "                                                                 \n",
            " conv2d_6 (Conv2D)           (None, 56, 56, 256)       590080    \n",
            "                                                                 \n",
            " max_pooling2d_2 (MaxPooling  (None, 28, 28, 256)      0         \n",
            " 2D)                                                             \n",
            "                                                                 \n",
            " batch_normalization_2 (Batc  (None, 28, 28, 256)      1024      \n",
            " hNormalization)                                                 \n",
            "                                                                 \n",
            " conv2d_7 (Conv2D)           (None, 28, 28, 512)       1180160   \n",
            "                                                                 \n",
            " conv2d_8 (Conv2D)           (None, 28, 28, 512)       2359808   \n",
            "                                                                 \n",
            " conv2d_9 (Conv2D)           (None, 28, 28, 512)       2359808   \n",
            "                                                                 \n",
            " max_pooling2d_3 (MaxPooling  (None, 14, 14, 512)      0         \n",
            " 2D)                                                             \n",
            "                                                                 \n",
            " batch_normalization_3 (Batc  (None, 14, 14, 512)      2048      \n",
            " hNormalization)                                                 \n",
            "                                                                 \n",
            " conv2d_10 (Conv2D)          (None, 14, 14, 512)       2359808   \n",
            "                                                                 \n",
            " conv2d_11 (Conv2D)          (None, 14, 14, 512)       2359808   \n",
            "                                                                 \n",
            " conv2d_12 (Conv2D)          (None, 14, 14, 512)       2359808   \n",
            "                                                                 \n",
            " max_pooling2d_4 (MaxPooling  (None, 7, 7, 512)        0         \n",
            " 2D)                                                             \n",
            "                                                                 \n",
            " batch_normalization_4 (Batc  (None, 7, 7, 512)        2048      \n",
            " hNormalization)                                                 \n",
            "                                                                 \n",
            " global_average_pooling2d (G  (None, 512)              0         \n",
            " lobalAveragePooling2D)                                          \n",
            "                                                                 \n",
            " flatten (Flatten)           (None, 512)               0         \n",
            "                                                                 \n",
            " dense (Dense)               (None, 512)               262656    \n",
            "                                                                 \n",
            " dense_1 (Dense)             (None, 1024)              525312    \n",
            "                                                                 \n",
            " dropout (Dropout)           (None, 1024)              0         \n",
            "                                                                 \n",
            " dense_2 (Dense)             (None, 1)                 1025      \n",
            "                                                                 \n",
            "=================================================================\n",
            "Total params: 15,509,569\n",
            "Trainable params: 15,506,625\n",
            "Non-trainable params: 2,944\n",
            "_________________________________________________________________\n",
            "None\n"
          ]
        }
      ]
    },
    {
      "cell_type": "code",
      "source": [
        "model.compile(optimizer='Adam', loss='binary_crossentropy', metrics=['accuracy'])"
      ],
      "metadata": {
        "id": "4iCzuS4MgrdD"
      },
      "execution_count": null,
      "outputs": []
    },
    {
      "cell_type": "code",
      "source": [
        "history = model.fit_generator(train_generator,\n",
        "                              steps_per_epoch=100,\n",
        "                              epochs=15,\n",
        "                              validation_data=test_generator,\n",
        "                              validation_steps=50,\n",
        "                              verbose=1)"
      ],
      "metadata": {
        "colab": {
          "base_uri": "https://localhost:8080/"
        },
        "id": "MzB49x50y-8_",
        "outputId": "84fed7bb-a212-4399-b9b6-3738403c5e06"
      },
      "execution_count": null,
      "outputs": [
        {
          "output_type": "stream",
          "name": "stderr",
          "text": [
            "/usr/local/lib/python3.7/dist-packages/ipykernel_launcher.py:6: UserWarning: `Model.fit_generator` is deprecated and will be removed in a future version. Please use `Model.fit`, which supports generators.\n",
            "  \n"
          ]
        },
        {
          "output_type": "stream",
          "name": "stdout",
          "text": [
            "Epoch 1/15\n",
            "100/100 [==============================] - 88s 883ms/step - loss: 0.7457 - accuracy: 0.5285 - val_loss: 0.7308 - val_accuracy: 0.5310\n",
            "Epoch 2/15\n",
            "100/100 [==============================] - 82s 815ms/step - loss: 0.7114 - accuracy: 0.5310 - val_loss: 0.8997 - val_accuracy: 0.5040\n",
            "Epoch 3/15\n",
            "100/100 [==============================] - 81s 814ms/step - loss: 0.7011 - accuracy: 0.5240 - val_loss: 0.7419 - val_accuracy: 0.5020\n",
            "Epoch 4/15\n",
            "100/100 [==============================] - 80s 801ms/step - loss: 0.6919 - accuracy: 0.5560 - val_loss: 0.6915 - val_accuracy: 0.5330\n",
            "Epoch 5/15\n",
            "100/100 [==============================] - 80s 802ms/step - loss: 0.6886 - accuracy: 0.5515 - val_loss: 0.7606 - val_accuracy: 0.5530\n",
            "Epoch 6/15\n",
            "100/100 [==============================] - 81s 809ms/step - loss: 0.6866 - accuracy: 0.5595 - val_loss: 0.6930 - val_accuracy: 0.4950\n",
            "Epoch 7/15\n",
            "100/100 [==============================] - 81s 809ms/step - loss: 0.6920 - accuracy: 0.5660 - val_loss: 0.9501 - val_accuracy: 0.5000\n",
            "Epoch 8/15\n",
            "100/100 [==============================] - 80s 803ms/step - loss: 0.6886 - accuracy: 0.5315 - val_loss: 1.4454 - val_accuracy: 0.5080\n",
            "Epoch 9/15\n",
            "100/100 [==============================] - 80s 800ms/step - loss: 0.6863 - accuracy: 0.5620 - val_loss: 0.7922 - val_accuracy: 0.5630\n",
            "Epoch 10/15\n",
            "100/100 [==============================] - 81s 810ms/step - loss: 0.6936 - accuracy: 0.5440 - val_loss: 0.7352 - val_accuracy: 0.5280\n",
            "Epoch 11/15\n",
            "100/100 [==============================] - 81s 809ms/step - loss: 0.6825 - accuracy: 0.5675 - val_loss: 0.8544 - val_accuracy: 0.5000\n",
            "Epoch 12/15\n",
            "100/100 [==============================] - 81s 808ms/step - loss: 0.6709 - accuracy: 0.5660 - val_loss: 1.7250 - val_accuracy: 0.5000\n",
            "Epoch 13/15\n",
            "100/100 [==============================] - 81s 805ms/step - loss: 0.6688 - accuracy: 0.5950 - val_loss: 0.9841 - val_accuracy: 0.5000\n",
            "Epoch 14/15\n",
            "100/100 [==============================] - 81s 807ms/step - loss: 0.6702 - accuracy: 0.5745 - val_loss: 0.6726 - val_accuracy: 0.5630\n",
            "Epoch 15/15\n",
            "100/100 [==============================] - 81s 804ms/step - loss: 0.6714 - accuracy: 0.5895 - val_loss: 0.6848 - val_accuracy: 0.5340\n"
          ]
        }
      ]
    },
    {
      "cell_type": "code",
      "source": [
        "model.evaluate_generator(test_generator)"
      ],
      "metadata": {
        "id": "v0Ha0r-u9AIy",
        "colab": {
          "base_uri": "https://localhost:8080/"
        },
        "outputId": "231a7eb2-1235-400d-e4fe-6ed45f03c6c2"
      },
      "execution_count": null,
      "outputs": [
        {
          "output_type": "stream",
          "name": "stderr",
          "text": [
            "/usr/local/lib/python3.7/dist-packages/ipykernel_launcher.py:1: UserWarning: `Model.evaluate_generator` is deprecated and will be removed in a future version. Please use `Model.evaluate`, which supports generators.\n",
            "  \"\"\"Entry point for launching an IPython kernel.\n"
          ]
        },
        {
          "output_type": "execute_result",
          "data": {
            "text/plain": [
              "[0.6844071745872498, 0.5329999923706055]"
            ]
          },
          "metadata": {},
          "execution_count": 14
        }
      ]
    },
    {
      "cell_type": "code",
      "source": [
        "model.save_weights('VGG16_weights.')"
      ],
      "metadata": {
        "id": "K_-oz9wNAD4u"
      },
      "execution_count": null,
      "outputs": []
    }
  ]
}