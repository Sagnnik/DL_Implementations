{
  "nbformat": 4,
  "nbformat_minor": 0,
  "metadata": {
    "colab": {
      "name": "UNET.ipynb",
      "provenance": [],
      "collapsed_sections": []
    },
    "kernelspec": {
      "name": "python3",
      "display_name": "Python 3"
    },
    "language_info": {
      "name": "python"
    }
  },
  "cells": [
    {
      "cell_type": "code",
      "execution_count": 53,
      "metadata": {
        "id": "h38UbrSOzeRb"
      },
      "outputs": [],
      "source": [
        "import tensorflow as tf\n",
        "import numpy as np\n",
        "from keras.layers import Conv2D, MaxPooling2D, Flatten, UpSampling2D, Conv2DTranspose, BatchNormalization, Input, concatenate, Cropping2D\n",
        "from keras.models import Model"
      ]
    },
    {
      "cell_type": "code",
      "source": [
        "def EncoderBlock(inputs, filters, max_pooling=True, skip=True):\n",
        "  Conv = Conv2D(filters, kernel_size=(3,3), padding='same', activation='relu', kernel_initializer='HeNormal')(inputs)\n",
        "  Conv = Conv2D(filters, kernel_size=(3,3), padding='same', activation='relu', kernel_initializer='HeNormal')(Conv)\n",
        "  Conv = BatchNormalization()(Conv, training=False)\n",
        "  if max_pooling:\n",
        "    next_layer = MaxPooling2D((2,2), strides=2)(Conv)\n",
        "  else :\n",
        "    next_layer = Conv\n",
        "  \n",
        "  if skip:\n",
        "    skip_conn = Conv\n",
        "    return next_layer, skip_conn\n",
        "  else: \n",
        "    return next_layer"
      ],
      "metadata": {
        "id": "xZ81UG071JG8"
      },
      "execution_count": 3,
      "outputs": []
    },
    {
      "cell_type": "code",
      "source": [
        "def DecoderBlock(prev_layer, filters, skip_conn):\n",
        "  up = Conv2DTranspose(filters, kernel_size=(3,3), strides=(2,2), padding='same')(prev_layer)\n",
        "  if (up.shape != skip_conn.shape):\n",
        "    size1 = up.shape[1]\n",
        "    size2 = skip_conn.shape[2]\n",
        "    delta = size2-size1\n",
        "    crop = Cropping2D(cropping=((delta,0),(delta,0)))(skip_conn)\n",
        "  else:\n",
        "    crop = skip_conn\n",
        "\n",
        "  concat = concatenate([up, crop], axis=-1)\n",
        "  Conv = Conv2D(filters, kernel_size=(3,3), padding='same', activation='relu', kernel_initializer='HeNormal')(concat)\n",
        "  Conv = Conv2D(filters, kernel_size=(3,3), padding='same', activation='relu', kernel_initializer='HeNormal')(Conv)\n",
        "  return Conv\n",
        "\n"
      ],
      "metadata": {
        "id": "xtc-sAw36aOo"
      },
      "execution_count": 54,
      "outputs": []
    },
    {
      "cell_type": "code",
      "source": [
        "def UNET(shape):\n",
        "  inputs = Input(shape=shape)\n",
        "  x, skip_conn1 = EncoderBlock(inputs, filters=64)\n",
        "  x, skip_conn2 = EncoderBlock(x, filters=128)\n",
        "  x, skip_conn3 = EncoderBlock(x, filters=256)\n",
        "  x, skip_conn4 = EncoderBlock(x, filters=512)\n",
        "  x = EncoderBlock(x, filters=1024, max_pooling=False, skip=False)\n",
        "  x = DecoderBlock(x, filters=512, skip_conn=skip_conn4)\n",
        "  x = DecoderBlock(x, filters=256, skip_conn=skip_conn3)\n",
        "  x = DecoderBlock(x, filters=128, skip_conn=skip_conn2)\n",
        "  x = DecoderBlock(x, filters=64, skip_conn=skip_conn1)\n",
        "  outputs = Conv2D(2, kernel_size=1)(x)\n",
        "  model = Model(inputs=inputs, outputs=outputs)\n",
        "  return model"
      ],
      "metadata": {
        "id": "1Q8VYD9_UXgQ"
      },
      "execution_count": 51,
      "outputs": []
    },
    {
      "cell_type": "code",
      "source": [
        "model = UNET(shape=(572, 572, 3))\n",
        "print(model.summary())"
      ],
      "metadata": {
        "colab": {
          "base_uri": "https://localhost:8080/"
        },
        "id": "hoywFHvJ5Bk5",
        "outputId": "0930b6a4-6ba7-414d-bc45-d542cbd8b206"
      },
      "execution_count": 55,
      "outputs": [
        {
          "output_type": "stream",
          "name": "stdout",
          "text": [
            "Model: \"model_3\"\n",
            "__________________________________________________________________________________________________\n",
            " Layer (type)                   Output Shape         Param #     Connected to                     \n",
            "==================================================================================================\n",
            " input_19 (InputLayer)          [(None, 572, 572, 3  0           []                               \n",
            "                                )]                                                                \n",
            "                                                                                                  \n",
            " conv2d_229 (Conv2D)            (None, 572, 572, 64  1792        ['input_19[0][0]']               \n",
            "                                )                                                                 \n",
            "                                                                                                  \n",
            " conv2d_230 (Conv2D)            (None, 572, 572, 64  36928       ['conv2d_229[0][0]']             \n",
            "                                )                                                                 \n",
            "                                                                                                  \n",
            " batch_normalization_90 (BatchN  (None, 572, 572, 64  256        ['conv2d_230[0][0]']             \n",
            " ormalization)                  )                                                                 \n",
            "                                                                                                  \n",
            " max_pooling2d_72 (MaxPooling2D  (None, 286, 286, 64  0          ['batch_normalization_90[0][0]'] \n",
            " )                              )                                                                 \n",
            "                                                                                                  \n",
            " conv2d_231 (Conv2D)            (None, 286, 286, 12  73856       ['max_pooling2d_72[0][0]']       \n",
            "                                8)                                                                \n",
            "                                                                                                  \n",
            " conv2d_232 (Conv2D)            (None, 286, 286, 12  147584      ['conv2d_231[0][0]']             \n",
            "                                8)                                                                \n",
            "                                                                                                  \n",
            " batch_normalization_91 (BatchN  (None, 286, 286, 12  512        ['conv2d_232[0][0]']             \n",
            " ormalization)                  8)                                                                \n",
            "                                                                                                  \n",
            " max_pooling2d_73 (MaxPooling2D  (None, 143, 143, 12  0          ['batch_normalization_91[0][0]'] \n",
            " )                              8)                                                                \n",
            "                                                                                                  \n",
            " conv2d_233 (Conv2D)            (None, 143, 143, 25  295168      ['max_pooling2d_73[0][0]']       \n",
            "                                6)                                                                \n",
            "                                                                                                  \n",
            " conv2d_234 (Conv2D)            (None, 143, 143, 25  590080      ['conv2d_233[0][0]']             \n",
            "                                6)                                                                \n",
            "                                                                                                  \n",
            " batch_normalization_92 (BatchN  (None, 143, 143, 25  1024       ['conv2d_234[0][0]']             \n",
            " ormalization)                  6)                                                                \n",
            "                                                                                                  \n",
            " max_pooling2d_74 (MaxPooling2D  (None, 71, 71, 256)  0          ['batch_normalization_92[0][0]'] \n",
            " )                                                                                                \n",
            "                                                                                                  \n",
            " conv2d_235 (Conv2D)            (None, 71, 71, 512)  1180160     ['max_pooling2d_74[0][0]']       \n",
            "                                                                                                  \n",
            " conv2d_236 (Conv2D)            (None, 71, 71, 512)  2359808     ['conv2d_235[0][0]']             \n",
            "                                                                                                  \n",
            " batch_normalization_93 (BatchN  (None, 71, 71, 512)  2048       ['conv2d_236[0][0]']             \n",
            " ormalization)                                                                                    \n",
            "                                                                                                  \n",
            " max_pooling2d_75 (MaxPooling2D  (None, 35, 35, 512)  0          ['batch_normalization_93[0][0]'] \n",
            " )                                                                                                \n",
            "                                                                                                  \n",
            " conv2d_237 (Conv2D)            (None, 35, 35, 1024  4719616     ['max_pooling2d_75[0][0]']       \n",
            "                                )                                                                 \n",
            "                                                                                                  \n",
            " conv2d_238 (Conv2D)            (None, 35, 35, 1024  9438208     ['conv2d_237[0][0]']             \n",
            "                                )                                                                 \n",
            "                                                                                                  \n",
            " batch_normalization_94 (BatchN  (None, 35, 35, 1024  4096       ['conv2d_238[0][0]']             \n",
            " ormalization)                  )                                                                 \n",
            "                                                                                                  \n",
            " conv2d_transpose_35 (Conv2DTra  (None, 70, 70, 512)  4719104    ['batch_normalization_94[0][0]'] \n",
            " nspose)                                                                                          \n",
            "                                                                                                  \n",
            " cropping2d_33 (Cropping2D)     (None, 70, 70, 512)  0           ['batch_normalization_93[0][0]'] \n",
            "                                                                                                  \n",
            " concatenate_33 (Concatenate)   (None, 70, 70, 1024  0           ['conv2d_transpose_35[0][0]',    \n",
            "                                )                                 'cropping2d_33[0][0]']          \n",
            "                                                                                                  \n",
            " conv2d_239 (Conv2D)            (None, 70, 70, 512)  4719104     ['concatenate_33[0][0]']         \n",
            "                                                                                                  \n",
            " conv2d_240 (Conv2D)            (None, 70, 70, 512)  2359808     ['conv2d_239[0][0]']             \n",
            "                                                                                                  \n",
            " conv2d_transpose_36 (Conv2DTra  (None, 140, 140, 25  1179904    ['conv2d_240[0][0]']             \n",
            " nspose)                        6)                                                                \n",
            "                                                                                                  \n",
            " cropping2d_34 (Cropping2D)     (None, 140, 140, 25  0           ['batch_normalization_92[0][0]'] \n",
            "                                6)                                                                \n",
            "                                                                                                  \n",
            " concatenate_34 (Concatenate)   (None, 140, 140, 51  0           ['conv2d_transpose_36[0][0]',    \n",
            "                                2)                                'cropping2d_34[0][0]']          \n",
            "                                                                                                  \n",
            " conv2d_241 (Conv2D)            (None, 140, 140, 25  1179904     ['concatenate_34[0][0]']         \n",
            "                                6)                                                                \n",
            "                                                                                                  \n",
            " conv2d_242 (Conv2D)            (None, 140, 140, 25  590080      ['conv2d_241[0][0]']             \n",
            "                                6)                                                                \n",
            "                                                                                                  \n",
            " conv2d_transpose_37 (Conv2DTra  (None, 280, 280, 12  295040     ['conv2d_242[0][0]']             \n",
            " nspose)                        8)                                                                \n",
            "                                                                                                  \n",
            " cropping2d_35 (Cropping2D)     (None, 280, 280, 12  0           ['batch_normalization_91[0][0]'] \n",
            "                                8)                                                                \n",
            "                                                                                                  \n",
            " concatenate_35 (Concatenate)   (None, 280, 280, 25  0           ['conv2d_transpose_37[0][0]',    \n",
            "                                6)                                'cropping2d_35[0][0]']          \n",
            "                                                                                                  \n",
            " conv2d_243 (Conv2D)            (None, 280, 280, 12  295040      ['concatenate_35[0][0]']         \n",
            "                                8)                                                                \n",
            "                                                                                                  \n",
            " conv2d_244 (Conv2D)            (None, 280, 280, 12  147584      ['conv2d_243[0][0]']             \n",
            "                                8)                                                                \n",
            "                                                                                                  \n",
            " conv2d_transpose_38 (Conv2DTra  (None, 560, 560, 64  73792      ['conv2d_244[0][0]']             \n",
            " nspose)                        )                                                                 \n",
            "                                                                                                  \n",
            " cropping2d_36 (Cropping2D)     (None, 560, 560, 64  0           ['batch_normalization_90[0][0]'] \n",
            "                                )                                                                 \n",
            "                                                                                                  \n",
            " concatenate_36 (Concatenate)   (None, 560, 560, 12  0           ['conv2d_transpose_38[0][0]',    \n",
            "                                8)                                'cropping2d_36[0][0]']          \n",
            "                                                                                                  \n",
            " conv2d_245 (Conv2D)            (None, 560, 560, 64  73792       ['concatenate_36[0][0]']         \n",
            "                                )                                                                 \n",
            "                                                                                                  \n",
            " conv2d_246 (Conv2D)            (None, 560, 560, 64  36928       ['conv2d_245[0][0]']             \n",
            "                                )                                                                 \n",
            "                                                                                                  \n",
            " conv2d_247 (Conv2D)            (None, 560, 560, 2)  130         ['conv2d_246[0][0]']             \n",
            "                                                                                                  \n",
            "==================================================================================================\n",
            "Total params: 34,521,346\n",
            "Trainable params: 34,517,378\n",
            "Non-trainable params: 3,968\n",
            "__________________________________________________________________________________________________\n",
            "None\n"
          ]
        }
      ]
    },
    {
      "cell_type": "code",
      "source": [
        ""
      ],
      "metadata": {
        "id": "sT3669PL5oUa"
      },
      "execution_count": null,
      "outputs": []
    }
  ]
}